{
 "cells": [
  {
   "cell_type": "code",
   "execution_count": 1,
   "id": "6d5fba66-8d7c-4f1e-9f9f-693f16aa25d0",
   "metadata": {},
   "outputs": [],
   "source": [
    "import pandas as pd\n",
    "from sklearn.pipeline import Pipeline\n",
    "from sklearn.compose import ColumnTransformer\n",
    "from sklearn.impute import SimpleImputer\n",
    "from sklearn.preprocessing import OneHotEncoder\n",
    "from sklearn.model_selection import cross_val_score\n",
    "from sklearn.model_selection import train_test_split\n",
    "import xgboost as xgb\n",
    "import numpy as np\n",
    "import os\n",
    "os.chdir(\"/Users/alexanderschou/Desktop/Projects/adv_mla_2024/AT2_experimentation/data/processed\")"
   ]
  },
  {
   "cell_type": "code",
   "execution_count": 2,
   "id": "dcd0e135-bab0-44af-902b-4ef3b2582b11",
   "metadata": {},
   "outputs": [
    {
     "name": "stderr",
     "output_type": "stream",
     "text": [
      "/var/folders/mh/j3zy8xqx2v32dk0tv4nx5x8m0000gn/T/ipykernel_4325/3300575340.py:1: DtypeWarning: Columns (9,10) have mixed types. Specify dtype option on import or set low_memory=False.\n",
      "  sales_train_processed = pd.read_csv('sales_train_processed.csv')\n"
     ]
    }
   ],
   "source": [
    "sales_train_processed = pd.read_csv('sales_train_processed.csv')"
   ]
  },
  {
   "cell_type": "code",
   "execution_count": 3,
   "id": "a0355083-a1b3-44b0-878e-72eb4d546528",
   "metadata": {},
   "outputs": [],
   "source": [
    "X = sales_train_processed.drop(columns=['revenue'])\n",
    "y = sales_train_processed['revenue']\n",
    "categorical_columns = ['item_id', 'store_id']"
   ]
  },
  {
   "cell_type": "code",
   "execution_count": 4,
   "id": "e7d46551-ce53-4fec-ad39-547fce3e7b56",
   "metadata": {},
   "outputs": [],
   "source": [
    "categorical_preprocessor = Pipeline(steps=[\n",
    "    ('imputer', SimpleImputer(strategy='constant', fill_value='None')),\n",
    "    ('onehot', OneHotEncoder(handle_unknown='ignore'))\n",
    "])"
   ]
  },
  {
   "cell_type": "code",
   "execution_count": 5,
   "id": "d52f9a23-0e0a-4003-b176-52409894bb80",
   "metadata": {},
   "outputs": [],
   "source": [
    "preprocessor = ColumnTransformer(\n",
    "    transformers=[\n",
    "        ('cat', categorical_preprocessor, categorical_columns)\n",
    "    ])"
   ]
  },
  {
   "cell_type": "code",
   "execution_count": 6,
   "id": "15b9b944-1e10-492b-90be-04c89d71cd44",
   "metadata": {},
   "outputs": [],
   "source": [
    "pipeline = Pipeline(steps=[\n",
    "    ('preprocessor', preprocessor),\n",
    "    ('model', xgb.XGBRegressor(objective='reg:squarederror', random_state=42))\n",
    "])"
   ]
  },
  {
   "cell_type": "code",
   "execution_count": null,
   "id": "614ec1b0-a483-4076-b55d-6d9da102fe59",
   "metadata": {},
   "outputs": [],
   "source": [
    "X_train, X_val, y_train, y_val = train_test_split(X, y, test_size=0.2, random_state=42)\n",
    "pipeline.fit(X_train, y_train)"
   ]
  },
  {
   "cell_type": "code",
   "execution_count": null,
   "id": "a9b53807-0943-4c84-b5db-6546355f1cfb",
   "metadata": {},
   "outputs": [],
   "source": [
    "val_score = pipeline.score(X_val, y_val)"
   ]
  },
  {
   "cell_type": "code",
   "execution_count": null,
   "id": "cfad99b3-1686-4687-9c53-48239102c9ba",
   "metadata": {},
   "outputs": [],
   "source": [
    "print(f\"Validation score: {val_score}\")"
   ]
  },
  {
   "cell_type": "code",
   "execution_count": 7,
   "id": "785660e2-6ff0-401c-a7d0-5d745f450b22",
   "metadata": {},
   "outputs": [
    {
     "data": {
      "text/plain": [
       "['xgboost_model_new.joblib']"
      ]
     },
     "execution_count": 7,
     "metadata": {},
     "output_type": "execute_result"
    }
   ],
   "source": [
    "import joblib\n",
    "\n",
    "pipeline.fit(X[[\"item_id\",\"store_id\",\"date\"]], y)\n",
    "os.chdir(\"/Users/alexanderschou/Desktop/Projects/adv_mla_2024/AT2_experimentation/models/predictive\")\n",
    "joblib.dump(pipeline, 'xgboost_model_new.joblib')"
   ]
  }
 ],
 "metadata": {
  "kernelspec": {
   "display_name": "Python 3 (ipykernel)",
   "language": "python",
   "name": "python3"
  },
  "language_info": {
   "codemirror_mode": {
    "name": "ipython",
    "version": 3
   },
   "file_extension": ".py",
   "mimetype": "text/x-python",
   "name": "python",
   "nbconvert_exporter": "python",
   "pygments_lexer": "ipython3",
   "version": "3.12.4"
  }
 },
 "nbformat": 4,
 "nbformat_minor": 5
}
