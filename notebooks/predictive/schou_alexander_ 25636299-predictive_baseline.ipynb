{
 "cells": [
  {
   "cell_type": "code",
   "execution_count": 2,
   "id": "6d5fba66-8d7c-4f1e-9f9f-693f16aa25d0",
   "metadata": {},
   "outputs": [],
   "source": [
    "import pandas as pd\n",
    "from sklearn.pipeline import Pipeline\n",
    "from sklearn.compose import ColumnTransformer\n",
    "from sklearn.impute import SimpleImputer\n",
    "from sklearn.preprocessing import OneHotEncoder\n",
    "from sklearn.model_selection import cross_val_score\n",
    "from sklearn.model_selection import train_test_split\n",
    "import xgboost as xgb\n",
    "import numpy as np\n",
    "import os\n",
    "os.chdir(\"/Users/alexanderschou/Desktop/Projects/adv_mla_2024/AT2_experimentation/data/processed\")"
   ]
  },
  {
   "cell_type": "code",
   "execution_count": 3,
   "id": "dcd0e135-bab0-44af-902b-4ef3b2582b11",
   "metadata": {},
   "outputs": [
    {
     "name": "stderr",
     "output_type": "stream",
     "text": [
      "/var/folders/mh/j3zy8xqx2v32dk0tv4nx5x8m0000gn/T/ipykernel_3565/3300575340.py:1: DtypeWarning: Columns (9,10) have mixed types. Specify dtype option on import or set low_memory=False.\n",
      "  sales_train_processed = pd.read_csv('sales_train_processed.csv')\n"
     ]
    }
   ],
   "source": [
    "sales_train_processed = pd.read_csv('sales_train_processed.csv')"
   ]
  },
  {
   "cell_type": "code",
   "execution_count": 4,
   "id": "a0355083-a1b3-44b0-878e-72eb4d546528",
   "metadata": {},
   "outputs": [],
   "source": [
    "X = sales_train_processed.drop(columns=['revenue'])\n",
    "y = sales_train_processed['revenue']\n",
    "categorical_columns = ['item_id', 'dept_id', 'cat_id', 'store_id', 'state_id', 'event_name', 'event_type']\n",
    "numerical_columns = ['sales', 'year', 'week', 'sell_price']"
   ]
  },
  {
   "cell_type": "code",
   "execution_count": 6,
   "id": "e7d46551-ce53-4fec-ad39-547fce3e7b56",
   "metadata": {},
   "outputs": [],
   "source": [
    "categorical_preprocessor = Pipeline(steps=[\n",
    "    ('imputer', SimpleImputer(strategy='constant', fill_value='None')),\n",
    "    ('onehot', OneHotEncoder(handle_unknown='ignore'))\n",
    "])\n",
    "\n",
    "numerical_preprocessor = Pipeline(steps=[\n",
    "    ('imputer', SimpleImputer(strategy='constant', fill_value=0))\n",
    "])"
   ]
  },
  {
   "cell_type": "code",
   "execution_count": 8,
   "id": "d52f9a23-0e0a-4003-b176-52409894bb80",
   "metadata": {},
   "outputs": [],
   "source": [
    "preprocessor = ColumnTransformer(\n",
    "    transformers=[\n",
    "        ('num', numerical_preprocessor, numerical_columns),\n",
    "        ('cat', categorical_preprocessor, categorical_columns)\n",
    "    ])"
   ]
  },
  {
   "cell_type": "code",
   "execution_count": 11,
   "id": "15b9b944-1e10-492b-90be-04c89d71cd44",
   "metadata": {},
   "outputs": [],
   "source": [
    "pipeline = Pipeline(steps=[\n",
    "    ('preprocessor', preprocessor),\n",
    "    ('model', xgb.XGBRegressor(objective='reg:squarederror', random_state=42))\n",
    "])"
   ]
  },
  {
   "cell_type": "code",
   "execution_count": null,
   "id": "614ec1b0-a483-4076-b55d-6d9da102fe59",
   "metadata": {},
   "outputs": [],
   "source": [
    "X_train, X_val, y_train, y_val = train_test_split(X, y, test_size=0.2, random_state=42)\n",
    "pipeline.fit(X_train, y_train)"
   ]
  },
  {
   "cell_type": "code",
   "execution_count": null,
   "id": "a9b53807-0943-4c84-b5db-6546355f1cfb",
   "metadata": {},
   "outputs": [],
   "source": [
    "val_score = pipeline.score(X_val, y_val)"
   ]
  },
  {
   "cell_type": "code",
   "execution_count": null,
   "id": "cfad99b3-1686-4687-9c53-48239102c9ba",
   "metadata": {},
   "outputs": [],
   "source": [
    "print(f\"Validation score: {val_score}\")"
   ]
  },
  {
   "cell_type": "code",
   "execution_count": 13,
   "id": "26da9fd4-e0c8-4fcf-8736-d49b17bbf7a8",
   "metadata": {},
   "outputs": [
    {
     "data": {
      "text/html": [
       "<div>\n",
       "<style scoped>\n",
       "    .dataframe tbody tr th:only-of-type {\n",
       "        vertical-align: middle;\n",
       "    }\n",
       "\n",
       "    .dataframe tbody tr th {\n",
       "        vertical-align: top;\n",
       "    }\n",
       "\n",
       "    .dataframe thead th {\n",
       "        text-align: right;\n",
       "    }\n",
       "</style>\n",
       "<table border=\"1\" class=\"dataframe\">\n",
       "  <thead>\n",
       "    <tr style=\"text-align: right;\">\n",
       "      <th></th>\n",
       "      <th>item_id</th>\n",
       "      <th>store_id</th>\n",
       "      <th>date</th>\n",
       "    </tr>\n",
       "  </thead>\n",
       "  <tbody>\n",
       "    <tr>\n",
       "      <th>0</th>\n",
       "      <td>HOBBIES_1_001</td>\n",
       "      <td>CA_1</td>\n",
       "      <td>2011-01-29</td>\n",
       "    </tr>\n",
       "    <tr>\n",
       "      <th>1</th>\n",
       "      <td>HOBBIES_1_002</td>\n",
       "      <td>CA_1</td>\n",
       "      <td>2011-01-29</td>\n",
       "    </tr>\n",
       "    <tr>\n",
       "      <th>2</th>\n",
       "      <td>HOBBIES_1_003</td>\n",
       "      <td>CA_1</td>\n",
       "      <td>2011-01-29</td>\n",
       "    </tr>\n",
       "    <tr>\n",
       "      <th>3</th>\n",
       "      <td>HOBBIES_1_004</td>\n",
       "      <td>CA_1</td>\n",
       "      <td>2011-01-29</td>\n",
       "    </tr>\n",
       "    <tr>\n",
       "      <th>4</th>\n",
       "      <td>HOBBIES_1_005</td>\n",
       "      <td>CA_1</td>\n",
       "      <td>2011-01-29</td>\n",
       "    </tr>\n",
       "    <tr>\n",
       "      <th>...</th>\n",
       "      <td>...</td>\n",
       "      <td>...</td>\n",
       "      <td>...</td>\n",
       "    </tr>\n",
       "    <tr>\n",
       "      <th>47107045</th>\n",
       "      <td>FOODS_3_823</td>\n",
       "      <td>WI_3</td>\n",
       "      <td>2015-04-18</td>\n",
       "    </tr>\n",
       "    <tr>\n",
       "      <th>47107046</th>\n",
       "      <td>FOODS_3_824</td>\n",
       "      <td>WI_3</td>\n",
       "      <td>2015-04-18</td>\n",
       "    </tr>\n",
       "    <tr>\n",
       "      <th>47107047</th>\n",
       "      <td>FOODS_3_825</td>\n",
       "      <td>WI_3</td>\n",
       "      <td>2015-04-18</td>\n",
       "    </tr>\n",
       "    <tr>\n",
       "      <th>47107048</th>\n",
       "      <td>FOODS_3_826</td>\n",
       "      <td>WI_3</td>\n",
       "      <td>2015-04-18</td>\n",
       "    </tr>\n",
       "    <tr>\n",
       "      <th>47107049</th>\n",
       "      <td>FOODS_3_827</td>\n",
       "      <td>WI_3</td>\n",
       "      <td>2015-04-18</td>\n",
       "    </tr>\n",
       "  </tbody>\n",
       "</table>\n",
       "<p>47107050 rows × 3 columns</p>\n",
       "</div>"
      ],
      "text/plain": [
       "                item_id store_id        date\n",
       "0         HOBBIES_1_001     CA_1  2011-01-29\n",
       "1         HOBBIES_1_002     CA_1  2011-01-29\n",
       "2         HOBBIES_1_003     CA_1  2011-01-29\n",
       "3         HOBBIES_1_004     CA_1  2011-01-29\n",
       "4         HOBBIES_1_005     CA_1  2011-01-29\n",
       "...                 ...      ...         ...\n",
       "47107045    FOODS_3_823     WI_3  2015-04-18\n",
       "47107046    FOODS_3_824     WI_3  2015-04-18\n",
       "47107047    FOODS_3_825     WI_3  2015-04-18\n",
       "47107048    FOODS_3_826     WI_3  2015-04-18\n",
       "47107049    FOODS_3_827     WI_3  2015-04-18\n",
       "\n",
       "[47107050 rows x 3 columns]"
      ]
     },
     "execution_count": 13,
     "metadata": {},
     "output_type": "execute_result"
    }
   ],
   "source": [
    "X[[\"item_id\",\"store_id\",\"date\"]]"
   ]
  },
  {
   "cell_type": "code",
   "execution_count": null,
   "id": "785660e2-6ff0-401c-a7d0-5d745f450b22",
   "metadata": {},
   "outputs": [],
   "source": [
    "import joblib\n",
    "\n",
    "pipeline.fit(X[[\"item_id\",\"store_id\",\"date\"]], y)\n",
    "os.chdir(\"/Users/alexanderschou/Desktop/Projects/adv_mla_2024/AT2_experimentation/models/predictive\")\n",
    "joblib.dump(pipeline, 'xgboost_model_new.joblib')"
   ]
  },
  {
   "cell_type": "code",
   "execution_count": null,
   "id": "1947d356-89d8-4451-8808-10e1f520979e",
   "metadata": {},
   "outputs": [],
   "source": [
    "X.tail(5)"
   ]
  },
  {
   "cell_type": "code",
   "execution_count": null,
   "id": "288fd3c9-2dbe-4ecb-bd40-1ebb865df437",
   "metadata": {},
   "outputs": [],
   "source": [
    "imputation_pipeline = Pipeline(steps=[\n",
    "    ('preprocessor', preprocessor)\n",
    "])\n",
    "\n",
    "imputation_pipeline.fit(X)\n",
    "\n",
    "os.chdir(\"/Users/alexanderschou/Desktop/Projects/adv_mla_2024/AT2_experimentation/models/predictive\")\n",
    "joblib.dump(imputation_pipeline, 'imputation_model.joblib')"
   ]
  },
  {
   "cell_type": "code",
   "execution_count": 10,
   "id": "8f5eea0c-3577-4a27-9282-5e5b230421fa",
   "metadata": {},
   "outputs": [
    {
     "data": {
      "text/plain": [
       "['imputation_model.joblib']"
      ]
     },
     "execution_count": 10,
     "metadata": {},
     "output_type": "execute_result"
    }
   ],
   "source": [
    "import joblib\n",
    "joblib.dump(imputation_pipeline, 'imputation_model.joblib')"
   ]
  }
 ],
 "metadata": {
  "kernelspec": {
   "display_name": "Python 3 (ipykernel)",
   "language": "python",
   "name": "python3"
  },
  "language_info": {
   "codemirror_mode": {
    "name": "ipython",
    "version": 3
   },
   "file_extension": ".py",
   "mimetype": "text/x-python",
   "name": "python",
   "nbconvert_exporter": "python",
   "pygments_lexer": "ipython3",
   "version": "3.12.4"
  }
 },
 "nbformat": 4,
 "nbformat_minor": 5
}
